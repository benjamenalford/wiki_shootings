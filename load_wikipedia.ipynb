{
 "cells": [
  {
   "cell_type": "code",
   "execution_count": 65,
   "metadata": {},
   "outputs": [],
   "source": [
    "import pandas as pd"
   ]
  },
  {
   "cell_type": "code",
   "execution_count": 66,
   "metadata": {},
   "outputs": [],
   "source": [
    "wiki_url = \"https://en.wikipedia.org/wiki/List_of_mass_shootings_in_the_United_States\""
   ]
  },
  {
   "cell_type": "code",
   "execution_count": 67,
   "metadata": {},
   "outputs": [],
   "source": [
    "#load the data from wikipedia\n",
    "wiki_dfs = pd.read_html(wiki_url)"
   ]
  },
  {
   "cell_type": "code",
   "execution_count": 68,
   "metadata": {},
   "outputs": [],
   "source": [
    "# remove the last item (wikipedia related items)\n",
    "dont_care = wiki_dfs.pop()"
   ]
  },
  {
   "cell_type": "code",
   "execution_count": 69,
   "metadata": {},
   "outputs": [],
   "source": [
    "#remove wiki's summary cells \n",
    "del wiki_dfs[13]\n",
    "del wiki_dfs[13] #cell 14 becomes 13 after the last command, so it looks dumb"
   ]
  },
  {
   "cell_type": "code",
   "execution_count": 70,
   "metadata": {},
   "outputs": [],
   "source": [
    "#fix the one table where they didn't label description\n",
    "wiki_dfs[11][\"Description\"] = wiki_dfs[11][\"Unnamed: 5\"]\n",
    "wiki_dfs[11].drop(columns=['Unnamed: 5'], inplace=True)"
   ]
  },
  {
   "cell_type": "code",
   "execution_count": 71,
   "metadata": {},
   "outputs": [],
   "source": [
    "#join (union) all of  the dfs ( tables from the wikipedia table ) to one df\n",
    "#list comprehension used in the concat function rather than listing all dfs manually\n",
    "all_shootings_df  = pd.concat([  df for df in wiki_dfs ])"
   ]
  },
  {
   "cell_type": "code",
   "execution_count": 72,
   "metadata": {},
   "outputs": [],
   "source": [
    "#set index to date\n",
    "#all_shootings_df = all_shootings_df.set_index(\"Date\")"
   ]
  },
  {
   "cell_type": "code",
   "execution_count": 73,
   "metadata": {},
   "outputs": [],
   "source": [
    "#split out the dead notes\n",
    "all_shootings_df[['Dead New','Dead Notes 1','Dead Notes 2']] = all_shootings_df.Dead.str.split(\"[\",expand=True)\n",
    "all_shootings_df['Dead Notes 1'] = all_shootings_df['Dead Notes 1'].str.replace(\"]\", \"\")\n",
    "all_shootings_df['Dead Notes 2'] = all_shootings_df['Dead Notes 2'].str.replace(\"]\", \"\")"
   ]
  },
  {
   "cell_type": "code",
   "execution_count": 74,
   "metadata": {},
   "outputs": [],
   "source": [
    "#fix the dates - hacky\n",
    "all_shootings_df['Date'] = all_shootings_df.Date.str.replace('May 21–25, 1969', 'May 21, 1969–May 25, 1969')\n",
    "all_shootings_df['Date'] = all_shootings_df.Date.str.replace('July 23–24, 1968', 'July 23, 1968–July 24, 1969')\n",
    "all_shootings_df['Date'] = all_shootings_df.Date.str.replace('July 27–29, 1999', 'July 27, 1999–July 29, 1999')\n",
    "all_shootings_df['Date'] = all_shootings_df.Date.str.replace('January 19–20, 2010', 'January 19, 2010–January 20, 2010')\n",
    "all_shootings_df['Date'] = all_shootings_df.Date.str.replace('February 3–12, 2013', 'February 3, 2013–February 12, 2013')\n",
    "all_shootings_df['Date'] = all_shootings_df.Date.str.replace('May 31 – June 1, 1921', 'May 31, 1921–June 1, 1921')\n",
    "all_shootings_df['Date'] = all_shootings_df.Date.str.replace('May 5 –May 6, 2016', 'May 5, 2016–May 6, 2016')\n",
    "all_shootings_df['Date'] = all_shootings_df.Date.str.replace('April 21 –April 22, 2016', 'April 21, 2016–April 22, 2016')\n",
    "all_shootings_df['Date'] = all_shootings_df.Date.str.replace('May 30–June 4, 2018', 'May 30, 2018–June 4, 2018')\n",
    "all_shootings_df['Date'] = all_shootings_df.Date.str.replace('March 7 – 8, 2016', 'March 7, 2016–March 8, 2016')\n",
    "all_shootings_df['Date'] = all_shootings_df.Date.str.replace('April 13 –April 18, 2017', 'April 13, 2017–April 18, 2017')\n",
    "all_shootings_df['Date'] = all_shootings_df.Date.str.replace('June 17–18, 1990', 'June 17, 1990–June 18, 1990')\n",
    "all_shootings_df['Date'] = all_shootings_df.Date.str.replace('February 16 – October 23, 2002', 'February 16, 2002–October 23, 2002')"
   ]
  },
  {
   "cell_type": "code",
   "execution_count": 75,
   "metadata": {},
   "outputs": [],
   "source": [
    "#find start and end dates\n",
    "all_shootings_df[['Date Start','Date End']]=all_shootings_df.Date.str.split(\"–\",expand=True)"
   ]
  },
  {
   "cell_type": "code",
   "execution_count": 76,
   "metadata": {},
   "outputs": [],
   "source": [
    "# replace dead new with dead and split dead min and max\n",
    "all_shootings_df['Dead'] = all_shootings_df['Dead New']"
   ]
  },
  {
   "cell_type": "code",
   "execution_count": 77,
   "metadata": {},
   "outputs": [],
   "source": [
    "#drop dead new\n",
    "all_shootings_df.drop(columns=['Dead New'], inplace=True)"
   ]
  },
  {
   "cell_type": "code",
   "execution_count": 78,
   "metadata": {},
   "outputs": [],
   "source": [
    "#split dead min and max\n",
    "all_shootings_df[['Dead Min','Dead Max']] = all_shootings_df.Dead.str.split(\"-\",expand=True)"
   ]
  },
  {
   "cell_type": "code",
   "execution_count": 79,
   "metadata": {},
   "outputs": [],
   "source": [
    "#Drop Dead \n",
    "all_shootings_df.drop(columns=['Dead'], inplace=True)"
   ]
  },
  {
   "cell_type": "code",
   "execution_count": 80,
   "metadata": {},
   "outputs": [],
   "source": [
    "#split out the Injured notes\n",
    "all_shootings_df[['Injured New','Injured Notes 1','Injured Notes 2']] = all_shootings_df.Injured.str.split(\"[\",expand=True)\n",
    "all_shootings_df['Injured Notes 1'] = all_shootings_df['Injured Notes 1'].str.replace(\"]\", \"\")\n",
    "all_shootings_df['Injured Notes 2'] = all_shootings_df['Injured Notes 2'].str.replace(\"]\", \"\")\n",
    "# replace dead new with dead and split dead min and max\n",
    "all_shootings_df['Injured'] = all_shootings_df['Injured New']\n",
    "all_shootings_df.drop(columns=['Injured New'], inplace=True)\n",
    "#split Injured min and max\n",
    "all_shootings_df[['Injured Min','Injured Max']] = all_shootings_df.Injured.str.split(\"-\",expand=True)\n",
    "#injured has some unknowns and a + on some columns\n",
    "all_shootings_df['Injured Min'] = all_shootings_df['Injured Min'].str.replace(\"+\", \"\")\n",
    "all_shootings_df['Injured Min'] = all_shootings_df['Injured Min'].str.replace(\"unknown\", \"0\")\n",
    "\n",
    "#Drop Injured \n",
    "all_shootings_df.drop(columns=['Injured'], inplace=True)"
   ]
  },
  {
   "cell_type": "code",
   "execution_count": 81,
   "metadata": {},
   "outputs": [],
   "source": [
    "#average the dead as float\n",
    "all_shootings_df['Dead Average'] = all_shootings_df[['Dead Min','Dead Max']].astype(float).mean(axis=1)"
   ]
  },
  {
   "cell_type": "code",
   "execution_count": 82,
   "metadata": {},
   "outputs": [],
   "source": [
    "#average the injured as float\n",
    "all_shootings_df['Injured Average'] = all_shootings_df[['Injured Min','Injured Max']].astype(float).mean(axis=1)"
   ]
  },
  {
   "cell_type": "code",
   "execution_count": 83,
   "metadata": {},
   "outputs": [
    {
     "data": {
      "text/plain": [
       "<AxesSubplot:>"
      ]
     },
     "execution_count": 83,
     "metadata": {},
     "output_type": "execute_result"
    },
    {
     "data": {
      "image/png": "[encoded data removed]",
      "text/plain": [
       "<Figure size 432x288 with 1 Axes>"
      ]
     },
     "metadata": {
      "needs_background": "light"
     },
     "output_type": "display_data"
    }
   ],
   "source": [
    "all_shootings_df.plot()"
   ]
  },
  {
   "cell_type": "code",
   "execution_count": 84,
   "metadata": {},
   "outputs": [
    {
     "data": {
      "text/html": [
       "<div>\n",
       "<style scoped>\n",
       "    .dataframe tbody tr th:only-of-type {\n",
       "        vertical-align: middle;\n",
       "    }\n",
       "\n",
       "    .dataframe tbody tr th {\n",
       "        vertical-align: top;\n",
       "    }\n",
       "\n",
       "    .dataframe thead th {\n",
       "        text-align: right;\n",
       "    }\n",
       "</style>\n",
       "<table border=\"1\" class=\"dataframe\">\n",
       "  <thead>\n",
       "    <tr style=\"text-align: right;\">\n",
       "      <th></th>\n",
       "      <th>Date</th>\n",
       "      <th>Location</th>\n",
       "      <th>Total</th>\n",
       "      <th>Description</th>\n",
       "      <th>Dead Notes 1</th>\n",
       "      <th>Dead Notes 2</th>\n",
       "      <th>Date Start</th>\n",
       "      <th>Date End</th>\n",
       "      <th>Dead Min</th>\n",
       "      <th>Dead Max</th>\n",
       "      <th>Injured Notes 1</th>\n",
       "      <th>Injured Notes 2</th>\n",
       "      <th>Injured Min</th>\n",
       "      <th>Injured Max</th>\n",
       "      <th>Dead Average</th>\n",
       "      <th>Injured Average</th>\n",
       "    </tr>\n",
       "  </thead>\n",
       "  <tbody>\n",
       "    <tr>\n",
       "      <th>0</th>\n",
       "      <td>April 15, 2021</td>\n",
       "      <td>Indianapolis, Indiana</td>\n",
       "      <td>16</td>\n",
       "      <td>Indianapolis FedEx shooting: early reports sta...</td>\n",
       "      <td>n 1</td>\n",
       "      <td>None</td>\n",
       "      <td>April 15, 2021</td>\n",
       "      <td>None</td>\n",
       "      <td>9</td>\n",
       "      <td>None</td>\n",
       "      <td>None</td>\n",
       "      <td>None</td>\n",
       "      <td>7</td>\n",
       "      <td>None</td>\n",
       "      <td>9.0</td>\n",
       "      <td>7.0</td>\n",
       "    </tr>\n",
       "    <tr>\n",
       "      <th>0</th>\n",
       "      <td>November 3, 1979</td>\n",
       "      <td>Greensboro, North Carolina</td>\n",
       "      <td>17</td>\n",
       "      <td>Greensboro Massacre (1979): Members of the Com...</td>\n",
       "      <td>None</td>\n",
       "      <td>None</td>\n",
       "      <td>November 3, 1979</td>\n",
       "      <td>None</td>\n",
       "      <td>5</td>\n",
       "      <td>None</td>\n",
       "      <td>NaN</td>\n",
       "      <td>NaN</td>\n",
       "      <td>NaN</td>\n",
       "      <td>NaN</td>\n",
       "      <td>5.0</td>\n",
       "      <td>NaN</td>\n",
       "    </tr>\n",
       "    <tr>\n",
       "      <th>0</th>\n",
       "      <td>September 14, 1989</td>\n",
       "      <td>Louisville, Kentucky</td>\n",
       "      <td>21</td>\n",
       "      <td>Standard Gravure shooting (1989): A 47-year-ol...</td>\n",
       "      <td>n 1</td>\n",
       "      <td>None</td>\n",
       "      <td>September 14, 1989</td>\n",
       "      <td>None</td>\n",
       "      <td>9</td>\n",
       "      <td>None</td>\n",
       "      <td>None</td>\n",
       "      <td>None</td>\n",
       "      <td>12</td>\n",
       "      <td>None</td>\n",
       "      <td>9.0</td>\n",
       "      <td>12.0</td>\n",
       "    </tr>\n",
       "    <tr>\n",
       "      <th>0</th>\n",
       "      <td>September 28, 2016</td>\n",
       "      <td>Townville, South Carolina</td>\n",
       "      <td>5</td>\n",
       "      <td>Townville Elementary School shooting: A fourte...</td>\n",
       "      <td>None</td>\n",
       "      <td>None</td>\n",
       "      <td>September 28, 2016</td>\n",
       "      <td>None</td>\n",
       "      <td>2</td>\n",
       "      <td>None</td>\n",
       "      <td>NaN</td>\n",
       "      <td>NaN</td>\n",
       "      <td>NaN</td>\n",
       "      <td>NaN</td>\n",
       "      <td>2.0</td>\n",
       "      <td>NaN</td>\n",
       "    </tr>\n",
       "    <tr>\n",
       "      <th>0</th>\n",
       "      <td>May 21, 1969–May 25, 1969</td>\n",
       "      <td>Greensboro, North Carolina</td>\n",
       "      <td>29</td>\n",
       "      <td>1969 Greensboro uprising: Student protestors, ...</td>\n",
       "      <td>None</td>\n",
       "      <td>None</td>\n",
       "      <td>May 21, 1969</td>\n",
       "      <td>May 25, 1969</td>\n",
       "      <td>2</td>\n",
       "      <td>None</td>\n",
       "      <td>NaN</td>\n",
       "      <td>NaN</td>\n",
       "      <td>NaN</td>\n",
       "      <td>NaN</td>\n",
       "      <td>2.0</td>\n",
       "      <td>NaN</td>\n",
       "    </tr>\n",
       "    <tr>\n",
       "      <th>...</th>\n",
       "      <td>...</td>\n",
       "      <td>...</td>\n",
       "      <td>...</td>\n",
       "      <td>...</td>\n",
       "      <td>...</td>\n",
       "      <td>...</td>\n",
       "      <td>...</td>\n",
       "      <td>...</td>\n",
       "      <td>...</td>\n",
       "      <td>...</td>\n",
       "      <td>...</td>\n",
       "      <td>...</td>\n",
       "      <td>...</td>\n",
       "      <td>...</td>\n",
       "      <td>...</td>\n",
       "      <td>...</td>\n",
       "    </tr>\n",
       "    <tr>\n",
       "      <th>33</th>\n",
       "      <td>March 5, 2001</td>\n",
       "      <td>Santee, California</td>\n",
       "      <td>15</td>\n",
       "      <td>Santana High School shooting: A 15-year-old st...</td>\n",
       "      <td>None</td>\n",
       "      <td>None</td>\n",
       "      <td>March 5, 2001</td>\n",
       "      <td>None</td>\n",
       "      <td>2</td>\n",
       "      <td>None</td>\n",
       "      <td>None</td>\n",
       "      <td>None</td>\n",
       "      <td>13</td>\n",
       "      <td>None</td>\n",
       "      <td>2.0</td>\n",
       "      <td>13.0</td>\n",
       "    </tr>\n",
       "    <tr>\n",
       "      <th>34</th>\n",
       "      <td>January 10, 2001</td>\n",
       "      <td>Nevada County, California</td>\n",
       "      <td>5</td>\n",
       "      <td>2001 Nevada County shootings: The perpetrator ...</td>\n",
       "      <td>None</td>\n",
       "      <td>None</td>\n",
       "      <td>January 10, 2001</td>\n",
       "      <td>None</td>\n",
       "      <td>3</td>\n",
       "      <td>None</td>\n",
       "      <td>None</td>\n",
       "      <td>None</td>\n",
       "      <td>2</td>\n",
       "      <td>None</td>\n",
       "      <td>3.0</td>\n",
       "      <td>2.0</td>\n",
       "    </tr>\n",
       "    <tr>\n",
       "      <th>35</th>\n",
       "      <td>December 26, 2000</td>\n",
       "      <td>Wakefield, Massachusetts</td>\n",
       "      <td>7</td>\n",
       "      <td>Wakefield massacre: Michael McDermott, an appl...</td>\n",
       "      <td>None</td>\n",
       "      <td>None</td>\n",
       "      <td>December 26, 2000</td>\n",
       "      <td>None</td>\n",
       "      <td>7</td>\n",
       "      <td>None</td>\n",
       "      <td>None</td>\n",
       "      <td>None</td>\n",
       "      <td>0</td>\n",
       "      <td>None</td>\n",
       "      <td>7.0</td>\n",
       "      <td>0.0</td>\n",
       "    </tr>\n",
       "    <tr>\n",
       "      <th>36</th>\n",
       "      <td>May 24, 2000</td>\n",
       "      <td>New York City, New York</td>\n",
       "      <td>7</td>\n",
       "      <td>Wendy's massacre: Two robbers locked seven emp...</td>\n",
       "      <td>None</td>\n",
       "      <td>None</td>\n",
       "      <td>May 24, 2000</td>\n",
       "      <td>None</td>\n",
       "      <td>5</td>\n",
       "      <td>None</td>\n",
       "      <td>None</td>\n",
       "      <td>None</td>\n",
       "      <td>2</td>\n",
       "      <td>None</td>\n",
       "      <td>5.0</td>\n",
       "      <td>2.0</td>\n",
       "    </tr>\n",
       "    <tr>\n",
       "      <th>37</th>\n",
       "      <td>April 28, 2000</td>\n",
       "      <td>Scott Township, Robinson Township, Center Town...</td>\n",
       "      <td>6</td>\n",
       "      <td>Richard Baumhammers killing spree: A man went ...</td>\n",
       "      <td>None</td>\n",
       "      <td>None</td>\n",
       "      <td>April 28, 2000</td>\n",
       "      <td>None</td>\n",
       "      <td>5</td>\n",
       "      <td>None</td>\n",
       "      <td>None</td>\n",
       "      <td>None</td>\n",
       "      <td>1</td>\n",
       "      <td>None</td>\n",
       "      <td>5.0</td>\n",
       "      <td>1.0</td>\n",
       "    </tr>\n",
       "  </tbody>\n",
       "</table>\n",
       "<p>267 rows × 16 columns</p>\n",
       "</div>"
      ],
      "text/plain": [
       "                         Date  \\\n",
       "0              April 15, 2021   \n",
       "0            November 3, 1979   \n",
       "0          September 14, 1989   \n",
       "0          September 28, 2016   \n",
       "0   May 21, 1969–May 25, 1969   \n",
       "..                        ...   \n",
       "33              March 5, 2001   \n",
       "34           January 10, 2001   \n",
       "35          December 26, 2000   \n",
       "36               May 24, 2000   \n",
       "37             April 28, 2000   \n",
       "\n",
       "                                             Location Total  \\\n",
       "0                               Indianapolis, Indiana    16   \n",
       "0                          Greensboro, North Carolina    17   \n",
       "0                                Louisville, Kentucky    21   \n",
       "0                           Townville, South Carolina     5   \n",
       "0                          Greensboro, North Carolina    29   \n",
       "..                                                ...   ...   \n",
       "33                                 Santee, California    15   \n",
       "34                          Nevada County, California     5   \n",
       "35                           Wakefield, Massachusetts     7   \n",
       "36                            New York City, New York     7   \n",
       "37  Scott Township, Robinson Township, Center Town...     6   \n",
       "\n",
       "                                          Description Dead Notes 1  \\\n",
       "0   Indianapolis FedEx shooting: early reports sta...          n 1   \n",
       "0   Greensboro Massacre (1979): Members of the Com...         None   \n",
       "0   Standard Gravure shooting (1989): A 47-year-ol...          n 1   \n",
       "0   Townville Elementary School shooting: A fourte...         None   \n",
       "0   1969 Greensboro uprising: Student protestors, ...         None   \n",
       "..                                                ...          ...   \n",
       "33  Santana High School shooting: A 15-year-old st...         None   \n",
       "34  2001 Nevada County shootings: The perpetrator ...         None   \n",
       "35  Wakefield massacre: Michael McDermott, an appl...         None   \n",
       "36  Wendy's massacre: Two robbers locked seven emp...         None   \n",
       "37  Richard Baumhammers killing spree: A man went ...         None   \n",
       "\n",
       "   Dead Notes 2          Date Start      Date End Dead Min Dead Max  \\\n",
       "0          None      April 15, 2021          None        9     None   \n",
       "0          None    November 3, 1979          None        5     None   \n",
       "0          None  September 14, 1989          None        9     None   \n",
       "0          None  September 28, 2016          None        2     None   \n",
       "0          None        May 21, 1969  May 25, 1969        2     None   \n",
       "..          ...                 ...           ...      ...      ...   \n",
       "33         None       March 5, 2001          None        2     None   \n",
       "34         None    January 10, 2001          None        3     None   \n",
       "35         None   December 26, 2000          None        7     None   \n",
       "36         None        May 24, 2000          None        5     None   \n",
       "37         None      April 28, 2000          None        5     None   \n",
       "\n",
       "   Injured Notes 1 Injured Notes 2 Injured Min Injured Max  Dead Average  \\\n",
       "0             None            None           7        None           9.0   \n",
       "0              NaN             NaN         NaN         NaN           5.0   \n",
       "0             None            None          12        None           9.0   \n",
       "0              NaN             NaN         NaN         NaN           2.0   \n",
       "0              NaN             NaN         NaN         NaN           2.0   \n",
       "..             ...             ...         ...         ...           ...   \n",
       "33            None            None          13        None           2.0   \n",
       "34            None            None           2        None           3.0   \n",
       "35            None            None           0        None           7.0   \n",
       "36            None            None           2        None           5.0   \n",
       "37            None            None           1        None           5.0   \n",
       "\n",
       "    Injured Average  \n",
       "0               7.0  \n",
       "0               NaN  \n",
       "0              12.0  \n",
       "0               NaN  \n",
       "0               NaN  \n",
       "..              ...  \n",
       "33             13.0  \n",
       "34              2.0  \n",
       "35              0.0  \n",
       "36              2.0  \n",
       "37              1.0  \n",
       "\n",
       "[267 rows x 16 columns]"
      ]
     },
     "execution_count": 84,
     "metadata": {},
     "output_type": "execute_result"
    }
   ],
   "source": [
    "all_shootings_df.sort_index(inplace=True)\n",
    "all_shootings_df"
   ]
  },
  {
   "cell_type": "code",
   "execution_count": 85,
   "metadata": {},
   "outputs": [],
   "source": [
    "#all_shootings_df=all_shootings_df.reset_index()"
   ]
  },
  {
   "cell_type": "code",
   "execution_count": 86,
   "metadata": {},
   "outputs": [],
   "source": [
    "#notes:\n",
    "# - n1 in dead includes shooter, put in another column\n",
    "# -nX in dead includes non-shooting related ( stabbing )- on the fence\n",
    "# Dates - dates spanning multiple days will be limited to the start date\n",
    "# location will get split to city / state as new columns\n",
    "# where there is a range specified, the lowest of that range will be used \n",
    "# total is kind of not needed since I'm doing the averages. felt cure, thought I'd keep for now"
   ]
  },
  {
   "cell_type": "code",
   "execution_count": 87,
   "metadata": {},
   "outputs": [
    {
     "data": {
      "text/plain": [
       "<bound method Series.unique of 0                April 15, 2021\n",
       "0              November 3, 1979\n",
       "0            September 14, 1989\n",
       "0            September 28, 2016\n",
       "0     May 21, 1969–May 25, 1969\n",
       "                ...            \n",
       "33                March 5, 2001\n",
       "34             January 10, 2001\n",
       "35            December 26, 2000\n",
       "36                 May 24, 2000\n",
       "37               April 28, 2000\n",
       "Name: Date, Length: 267, dtype: object>"
      ]
     },
     "execution_count": 87,
     "metadata": {},
     "output_type": "execute_result"
    }
   ],
   "source": [
    "all_shootings_df['Date'].unique"
   ]
  },
  {
   "cell_type": "code",
   "execution_count": null,
   "metadata": {},
   "outputs": [],
   "source": []
  },
  {
   "cell_type": "code",
   "execution_count": null,
   "metadata": {},
   "outputs": [],
   "source": []
  },
  {
   "cell_type": "code",
   "execution_count": null,
   "metadata": {},
   "outputs": [],
   "source": []
  },
  {
   "cell_type": "code",
   "execution_count": null,
   "metadata": {},
   "outputs": [],
   "source": []
  },
  {
   "cell_type": "code",
   "execution_count": null,
   "metadata": {},
   "outputs": [],
   "source": []
  },
  {
   "cell_type": "code",
   "execution_count": null,
   "metadata": {},
   "outputs": [],
   "source": []
  },
  {
   "cell_type": "code",
   "execution_count": null,
   "metadata": {},
   "outputs": [],
   "source": []
  }
 ],
 "metadata": {
  "kernelspec": {
   "display_name": "Python 3",
   "language": "python",
   "name": "python3"
  },
  "language_info": {
   "codemirror_mode": {
    "name": "ipython",
    "version": 3
   },
   "file_extension": ".py",
   "mimetype": "text/x-python",
   "name": "python",
   "nbconvert_exporter": "python",
   "pygments_lexer": "ipython3",
   "version": "3.8.2"
  }
 },
 "nbformat": 4,
 "nbformat_minor": 4
}
