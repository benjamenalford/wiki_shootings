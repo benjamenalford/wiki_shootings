{
 "cells": [
  {
   "cell_type": "code",
   "execution_count": 461,
   "metadata": {},
   "outputs": [],
   "source": [
    "import pandas as pd"
   ]
  },
  {
   "cell_type": "code",
   "execution_count": 462,
   "metadata": {},
   "outputs": [],
   "source": [
    "wiki_url = \"https://en.wikipedia.org/wiki/List_of_mass_shootings_in_the_United_States\""
   ]
  },
  {
   "cell_type": "code",
   "execution_count": 463,
   "metadata": {},
   "outputs": [],
   "source": [
    "#load the data from wikipedia\n",
    "wiki_dfs = pd.read_html(wiki_url)"
   ]
  },
  {
   "cell_type": "code",
   "execution_count": 464,
   "metadata": {},
   "outputs": [],
   "source": [
    "# remove the last item (wikipedia related items)\n",
    "dont_care = wiki_dfs.pop()"
   ]
  },
  {
   "cell_type": "code",
   "execution_count": 465,
   "metadata": {},
   "outputs": [],
   "source": [
    "#remove wiki's summary cells \n",
    "del wiki_dfs[13]\n",
    "del wiki_dfs[13] #cell 14 becomes 13 after the last command, so it looks dumb"
   ]
  },
  {
   "cell_type": "code",
   "execution_count": 466,
   "metadata": {},
   "outputs": [],
   "source": [
    "#fix the one table where they didn't label description\n",
    "wiki_dfs[11][\"Description\"] = wiki_dfs[11][\"Unnamed: 5\"]\n",
    "wiki_dfs[11].drop(columns=['Unnamed: 5'], inplace=True)"
   ]
  },
  {
   "cell_type": "code",
   "execution_count": 467,
   "metadata": {},
   "outputs": [],
   "source": [
    "#join (union) all of  the dfs ( tables from the wikipedia table ) to one df\n",
    "#list comprehension used in the concat function rather than listing all dfs manually\n",
    "all_shootings_df  = pd.concat([  df for df in wiki_dfs ])"
   ]
  },
  {
   "cell_type": "code",
   "execution_count": 468,
   "metadata": {},
   "outputs": [],
   "source": [
    "#set index to date\n",
    "#all_shootings_df = all_shootings_df.set_index(\"Date\")"
   ]
  },
  {
   "cell_type": "code",
   "execution_count": 469,
   "metadata": {},
   "outputs": [],
   "source": [
    "#split out the dead notes\n",
    "all_shootings_df[['Dead New','Dead Notes 1','Dead Notes 2']] = all_shootings_df.Dead.str.split(\"[\",expand=True)\n",
    "all_shootings_df['Dead Notes 1'] = all_shootings_df['Dead Notes 1'].str.replace(\"]\", \"\")\n",
    "all_shootings_df['Dead Notes 2'] = all_shootings_df['Dead Notes 2'].str.replace(\"]\", \"\")"
   ]
  },
  {
   "cell_type": "code",
   "execution_count": 470,
   "metadata": {},
   "outputs": [],
   "source": [
    "#fix the dates - hacky\n",
    "all_shootings_df['Date'] = all_shootings_df.Date.str.replace('May 21–25, 1969', 'May 21, 1969–May 25, 1969')\n",
    "all_shootings_df['Date'] = all_shootings_df.Date.str.replace('July 23–24, 1968', 'July 23, 1968–July 24, 1969')\n",
    "all_shootings_df['Date'] = all_shootings_df.Date.str.replace('July 27–29, 1999', 'July 27, 1999–July 29, 1999')\n",
    "all_shootings_df['Date'] = all_shootings_df.Date.str.replace('January 19–20, 2010', 'January 19, 2010–January 20, 2010')\n",
    "all_shootings_df['Date'] = all_shootings_df.Date.str.replace('February 3–12, 2013', 'February 3, 2013–February 12, 2013')\n",
    "all_shootings_df['Date'] = all_shootings_df.Date.str.replace('May 31 – June 1, 1921', 'May 31, 1921–June 1, 1921')\n",
    "all_shootings_df['Date'] = all_shootings_df.Date.str.replace('May 5 –May 6, 2016', 'May 5, 2016–May 6, 2016')\n",
    "all_shootings_df['Date'] = all_shootings_df.Date.str.replace('April 21 –April 22, 2016', 'April 21, 2016–April 22, 2016')\n",
    "all_shootings_df['Date'] = all_shootings_df.Date.str.replace('May 30–June 4, 2018', 'May 30, 2018–June 4, 2018')\n",
    "all_shootings_df['Date'] = all_shootings_df.Date.str.replace('March 7 – 8, 2016', 'March 7, 2016–March 8, 2016')\n",
    "all_shootings_df['Date'] = all_shootings_df.Date.str.replace('April 13 –April 18, 2017', 'April 13, 2017–April 18, 2017')\n",
    "all_shootings_df['Date'] = all_shootings_df.Date.str.replace('June 17–18, 1990', 'June 17, 1990–June 18, 1990')\n",
    "all_shootings_df['Date'] = all_shootings_df.Date.str.replace('February 16 – October 23, 2002', 'February 16, 2002–October 23, 2002')\n",
    "all_shootings_df['Date'] = all_shootings_df.Date.str.replace('January 1923','January 01, 1923')\n",
    "all_shootings_df['Date'] = all_shootings_df.Date.str.replace('December 22–28, 1987','December 22, 1987– December 28, 1987')\n",
    "all_shootings_df['Date'] = all_shootings_df.Date.str.replace('June 21–22, 1922','June 21, 1922–June 22, 1922')\n",
    "all_shootings_df['Date'] = all_shootings_df.Date.str.replace('July 2–4, 1999','July 2, 1999 – July 4, 1999')"
   ]
  },
  {
   "cell_type": "code",
   "execution_count": 471,
   "metadata": {},
   "outputs": [],
   "source": [
    "#find start and end dates \n",
    "all_shootings_df['Date']=all_shootings_df.Date.str.strip()\n",
    "all_shootings_df['Date']=all_shootings_df.Date.str.replace(\"-\",\"–\")\n",
    "all_shootings_df['Date']=all_shootings_df.Date.str.replace(\"–\",\"–\")\n",
    "all_shootings_df['Date']=all_shootings_df.Date.str.replace(\"–\",\"–\")\n",
    "all_shootings_df['Date']=all_shootings_df.Date.str.replace(\"–\",\"–\")\n",
    "all_shootings_df[['Date Start','Date End']]=all_shootings_df.Date.str.split(\"–\",expand=True)\n",
    "all_shootings_df['Date Start']=all_shootings_df['Date Start'].str.strip()\n",
    "all_shootings_df['Date End']=all_shootings_df['Date End'].str.strip()"
   ]
  },
  {
   "cell_type": "code",
   "execution_count": 472,
   "metadata": {},
   "outputs": [],
   "source": [
    "# change dates to actual dates\n",
    "all_shootings_df['Date Start'] = pd.to_datetime(all_shootings_df['Date Start'], format='%B %d, %Y')\n",
    "all_shootings_df['Date End'] = pd.to_datetime(all_shootings_df['Date End'], format='%B %d, %Y')"
   ]
  },
  {
   "cell_type": "code",
   "execution_count": 473,
   "metadata": {},
   "outputs": [],
   "source": [
    "#delete the orginal date \n",
    "all_shootings_df.drop(columns=['Date'], inplace=True)"
   ]
  },
  {
   "cell_type": "code",
   "execution_count": 474,
   "metadata": {},
   "outputs": [],
   "source": [
    "# replace dead new with dead and split dead min and max\n",
    "all_shootings_df['Dead'] = all_shootings_df['Dead New']"
   ]
  },
  {
   "cell_type": "code",
   "execution_count": 475,
   "metadata": {},
   "outputs": [],
   "source": [
    "#drop dead new\n",
    "all_shootings_df.drop(columns=['Dead New'], inplace=True)"
   ]
  },
  {
   "cell_type": "code",
   "execution_count": 476,
   "metadata": {},
   "outputs": [],
   "source": [
    "#split dead min and max\n",
    "all_shootings_df[['Dead Min','Dead Max']] = all_shootings_df.Dead.str.split(\"-\",expand=True)"
   ]
  },
  {
   "cell_type": "code",
   "execution_count": 477,
   "metadata": {},
   "outputs": [],
   "source": [
    "#Drop Dead \n",
    "all_shootings_df.drop(columns=['Dead'], inplace=True)"
   ]
  },
  {
   "cell_type": "code",
   "execution_count": 478,
   "metadata": {},
   "outputs": [],
   "source": [
    "#split out the Injured notes\n",
    "all_shootings_df[['Injured New','Injured Notes 1','Injured Notes 2']] = all_shootings_df.Injured.str.split(\"[\",expand=True)\n",
    "all_shootings_df['Injured Notes 1'] = all_shootings_df['Injured Notes 1'].str.replace(\"]\", \"\")\n",
    "all_shootings_df['Injured Notes 2'] = all_shootings_df['Injured Notes 2'].str.replace(\"]\", \"\")\n",
    "# replace dead new with dead and split dead min and max\n",
    "all_shootings_df['Injured'] = all_shootings_df['Injured New']\n",
    "all_shootings_df.drop(columns=['Injured New'], inplace=True)\n",
    "#split Injured min and max\n",
    "all_shootings_df[['Injured Min','Injured Max']] = all_shootings_df.Injured.str.split(\"-\",expand=True)\n",
    "#injured has some unknowns and a + on some columns\n",
    "all_shootings_df['Injured Min'] = all_shootings_df['Injured Min'].str.replace(\"+\", \"\")\n",
    "all_shootings_df['Injured Min'] = all_shootings_df['Injured Min'].str.replace(\"unknown\", \"0\")\n",
    "\n",
    "#Drop Injured \n",
    "all_shootings_df.drop(columns=['Injured'], inplace=True)"
   ]
  },
  {
   "cell_type": "code",
   "execution_count": 479,
   "metadata": {},
   "outputs": [],
   "source": [
    "#average the dead as float\n",
    "all_shootings_df['Dead Average'] = all_shootings_df[['Dead Min','Dead Max']].astype(float).mean(axis=1)"
   ]
  },
  {
   "cell_type": "code",
   "execution_count": 480,
   "metadata": {},
   "outputs": [],
   "source": [
    "#average the injured as float\n",
    "all_shootings_df['Injured Average'] = all_shootings_df[['Injured Min','Injured Max']].astype(float).mean(axis=1)"
   ]
  },
  {
   "cell_type": "code",
   "execution_count": 481,
   "metadata": {},
   "outputs": [],
   "source": [
    "all_shootings_df.sort_index(inplace=True)"
   ]
  },
  {
   "cell_type": "code",
   "execution_count": 482,
   "metadata": {},
   "outputs": [],
   "source": [
    "all_shootings_df = all_shootings_df.sort_values('Date Start').reset_index()"
   ]
  },
  {
   "cell_type": "code",
   "execution_count": 483,
   "metadata": {},
   "outputs": [],
   "source": [
    "all_shootings_df.drop(columns=['index'], inplace=True)"
   ]
  },
  {
   "cell_type": "markdown",
   "metadata": {},
   "source": [
    "# score , we can finally start to look at the data"
   ]
  },
  {
   "cell_type": "code",
   "execution_count": 484,
   "metadata": {},
   "outputs": [],
   "source": [
    "#trim it down \n",
    "cleaned_shootings = all_shootings_df[['Date Start','Location', 'Dead Average', 'Injured Average']]"
   ]
  },
  {
   "cell_type": "code",
   "execution_count": 489,
   "metadata": {},
   "outputs": [
    {
     "data": {
      "text/plain": [
       "<AxesSubplot:xlabel='Date Start', ylabel='Dead Average'>"
      ]
     },
     "execution_count": 489,
     "metadata": {},
     "output_type": "execute_result"
    },
    {
     "data": {
      "image/png": "[encoded data removed]",
      "text/plain": [
       "<Figure size 432x288 with 1 Axes>"
      ]
     },
     "metadata": {
      "needs_background": "light"
     },
     "output_type": "display_data"
    }
   ],
   "source": [
    "#quick plots to see what's up\n",
    "cleaned_shootings.plot(kind='scatter',x='Date Start', y='Dead Average')\n",
    "#cleaned_shootings.plot(kind='scatter',x='Date Start', y='Injured Average')"
   ]
  },
  {
   "cell_type": "markdown",
   "metadata": {},
   "source": [
    "## Initial observations. \n",
    "### 1. WTF happened around 1920?\n",
    "#### The Tulsa Race Massacre, AKA Black Wall Street. https://en.wikipedia.org/wiki/Tulsa_race_massacre  \n",
    "### 2. No mass shootings from around WW1 until after WW2\n",
    "#### US cuts steel production, makes sense. Post WW2 recovery 'boom' makes some sense as well, worth revisting this period for more explanation\n",
    "### 3. We can probably split the data and look post 1960 due to the observations\n",
    "## Notes:\n",
    "### 1840 is when the first pin firing cartridge firearm started being sold, allowing for rapid reloading and quick firing, 1871 cartridges were brought to handguns. http://www.pbs.org/opb/historydetectives/technique/gun-timeline/"
   ]
  },
  {
   "cell_type": "code",
   "execution_count": 486,
   "metadata": {},
   "outputs": [],
   "source": [
    "#notes: I'm probably going to ignore these as I go\n",
    "# - n1 in dead includes shooter, put in another column\n",
    "# -nX in dead includes non-shooting related ( stabbing )- on the fence\n",
    "# Dates - dates spanning multiple days will be limited to the start date\n",
    "# location will get split to city / state as new columns\n",
    "# where there is a range specified, the lowest of that range will be used \n",
    "# total is kind of not needed since I'm doing the averages. felt cute, thought I'd keep for now"
   ]
  }
 ],
 "metadata": {
  "kernelspec": {
   "display_name": "Python 3",
   "language": "python",
   "name": "python3"
  },
  "language_info": {
   "codemirror_mode": {
    "name": "ipython",
    "version": 3
   },
   "file_extension": ".py",
   "mimetype": "text/x-python",
   "name": "python",
   "nbconvert_exporter": "python",
   "pygments_lexer": "ipython3",
   "version": "3.8.2"
  }
 },
 "nbformat": 4,
 "nbformat_minor": 4
}
