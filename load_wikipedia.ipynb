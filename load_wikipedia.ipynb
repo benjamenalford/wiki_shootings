{
 "cells": [
  {
   "cell_type": "code",
   "execution_count": 559,
   "metadata": {},
   "outputs": [],
   "source": [
    "import pandas as pd"
   ]
  },
  {
   "cell_type": "code",
   "execution_count": 560,
   "metadata": {},
   "outputs": [],
   "source": [
    "wiki_url = \"https://en.wikipedia.org/wiki/List_of_mass_shootings_in_the_United_States\""
   ]
  },
  {
   "cell_type": "code",
   "execution_count": 561,
   "metadata": {},
   "outputs": [],
   "source": [
    "#load the data from wikipedia\n",
    "wiki_dfs = pd.read_html(wiki_url)"
   ]
  },
  {
   "cell_type": "code",
   "execution_count": 562,
   "metadata": {},
   "outputs": [],
   "source": [
    "# remove the last item (wikipedia related items)\n",
    "dont_care = wiki_dfs.pop()"
   ]
  },
  {
   "cell_type": "code",
   "execution_count": 563,
   "metadata": {},
   "outputs": [],
   "source": [
    "#remove wiki's summary cells \n",
    "del wiki_dfs[13]\n",
    "del wiki_dfs[13] #cell 14 becomes 13 after the last command, so it looks dumb"
   ]
  },
  {
   "cell_type": "code",
   "execution_count": 564,
   "metadata": {},
   "outputs": [],
   "source": [
    "#fix the one table where they didn't label description\n",
    "wiki_dfs[11][\"Description\"] = wiki_dfs[11][\"Unnamed: 5\"]\n",
    "wiki_dfs[11].drop(columns=['Unnamed: 5'], inplace=True)"
   ]
  },
  {
   "cell_type": "code",
   "execution_count": 565,
   "metadata": {},
   "outputs": [],
   "source": [
    "#join (union) all of  the dfs ( tables from the wikipedia table ) to one df\n",
    "#list comprehension used in the concat function rather than listing all dfs manually\n",
    "all_shootings_df  = pd.concat([  df for df in wiki_dfs ])"
   ]
  },
  {
   "cell_type": "code",
   "execution_count": 566,
   "metadata": {},
   "outputs": [],
   "source": [
    "#set index to date\n",
    "#all_shootings_df = all_shootings_df.set_index(\"Date\")"
   ]
  },
  {
   "cell_type": "code",
   "execution_count": 567,
   "metadata": {},
   "outputs": [],
   "source": [
    "#split out the dead notes\n",
    "all_shootings_df[['Dead New','Dead Notes 1','Dead Notes 2']] = all_shootings_df.Dead.str.split(\"[\",expand=True)\n",
    "all_shootings_df['Dead Notes 1'] = all_shootings_df['Dead Notes 1'].str.replace(\"]\", \"\")\n",
    "all_shootings_df['Dead Notes 2'] = all_shootings_df['Dead Notes 2'].str.replace(\"]\", \"\")"
   ]
  },
  {
   "cell_type": "code",
   "execution_count": 568,
   "metadata": {},
   "outputs": [],
   "source": [
    "#fix the dates - hacky\n",
    "all_shootings_df['Date'] = all_shootings_df.Date.str.replace('May 21–25, 1969', 'May 21, 1969–May 25, 1969')\n",
    "all_shootings_df['Date'] = all_shootings_df.Date.str.replace('July 23–24, 1968', 'July 23, 1968–July 24, 1969')\n",
    "all_shootings_df['Date'] = all_shootings_df.Date.str.replace('July 27–29, 1999', 'July 27, 1999–July 29, 1999')\n",
    "all_shootings_df['Date'] = all_shootings_df.Date.str.replace('January 19–20, 2010', 'January 19, 2010–January 20, 2010')\n",
    "all_shootings_df['Date'] = all_shootings_df.Date.str.replace('February 3–12, 2013', 'February 3, 2013–February 12, 2013')\n",
    "all_shootings_df['Date'] = all_shootings_df.Date.str.replace('May 31 – June 1, 1921', 'May 31, 1921–June 1, 1921')\n",
    "all_shootings_df['Date'] = all_shootings_df.Date.str.replace('May 5 –May 6, 2016', 'May 5, 2016–May 6, 2016')\n",
    "all_shootings_df['Date'] = all_shootings_df.Date.str.replace('April 21 –April 22, 2016', 'April 21, 2016–April 22, 2016')\n",
    "all_shootings_df['Date'] = all_shootings_df.Date.str.replace('May 30–June 4, 2018', 'May 30, 2018–June 4, 2018')\n",
    "all_shootings_df['Date'] = all_shootings_df.Date.str.replace('March 7 – 8, 2016', 'March 7, 2016–March 8, 2016')\n",
    "all_shootings_df['Date'] = all_shootings_df.Date.str.replace('April 13 –April 18, 2017', 'April 13, 2017–April 18, 2017')\n",
    "all_shootings_df['Date'] = all_shootings_df.Date.str.replace('June 17–18, 1990', 'June 17, 1990–June 18, 1990')\n",
    "all_shootings_df['Date'] = all_shootings_df.Date.str.replace('February 16 – October 23, 2002', 'February 16, 2002–October 23, 2002')\n",
    "all_shootings_df['Date'] = all_shootings_df.Date.str.replace('January 1923','January 01, 1923')\n",
    "all_shootings_df['Date'] = all_shootings_df.Date.str.replace('December 22–28, 1987','December 22, 1987– December 28, 1987')\n",
    "all_shootings_df['Date'] = all_shootings_df.Date.str.replace('June 21–22, 1922','June 21, 1922–June 22, 1922')\n",
    "all_shootings_df['Date'] = all_shootings_df.Date.str.replace('July 2–4, 1999','July 2, 1999 – July 4, 1999')"
   ]
  },
  {
   "cell_type": "code",
   "execution_count": 569,
   "metadata": {},
   "outputs": [],
   "source": [
    "#find start and end dates \n",
    "all_shootings_df['Date']=all_shootings_df.Date.str.strip()\n",
    "all_shootings_df['Date']=all_shootings_df.Date.str.replace(\"-\",\"–\")\n",
    "all_shootings_df['Date']=all_shootings_df.Date.str.replace(\"–\",\"–\")\n",
    "all_shootings_df['Date']=all_shootings_df.Date.str.replace(\"–\",\"–\")\n",
    "all_shootings_df['Date']=all_shootings_df.Date.str.replace(\"–\",\"–\")\n",
    "all_shootings_df[['Date Start','Date End']]=all_shootings_df.Date.str.split(\"–\",expand=True)\n",
    "all_shootings_df['Date Start']=all_shootings_df['Date Start'].str.strip()\n",
    "all_shootings_df['Date End']=all_shootings_df['Date End'].str.strip()"
   ]
  },
  {
   "cell_type": "code",
   "execution_count": 570,
   "metadata": {},
   "outputs": [],
   "source": [
    "# change dates to actual dates\n",
    "all_shootings_df['Date Start'] = pd.to_datetime(all_shootings_df['Date Start'], format='%B %d, %Y')\n",
    "all_shootings_df['Date End'] = pd.to_datetime(all_shootings_df['Date End'], format='%B %d, %Y')"
   ]
  },
  {
   "cell_type": "code",
   "execution_count": 571,
   "metadata": {},
   "outputs": [],
   "source": [
    "#delete the orginal date \n",
    "all_shootings_df.drop(columns=['Date'], inplace=True)"
   ]
  },
  {
   "cell_type": "code",
   "execution_count": 572,
   "metadata": {},
   "outputs": [],
   "source": [
    "# replace dead new with dead and split dead min and max\n",
    "all_shootings_df['Dead'] = all_shootings_df['Dead New']"
   ]
  },
  {
   "cell_type": "code",
   "execution_count": 573,
   "metadata": {},
   "outputs": [],
   "source": [
    "#drop dead new\n",
    "all_shootings_df.drop(columns=['Dead New'], inplace=True)"
   ]
  },
  {
   "cell_type": "code",
   "execution_count": 574,
   "metadata": {},
   "outputs": [],
   "source": [
    "#split dead min and max\n",
    "all_shootings_df[['Dead Min','Dead Max']] = all_shootings_df.Dead.str.split(\"-\",expand=True)"
   ]
  },
  {
   "cell_type": "code",
   "execution_count": 575,
   "metadata": {},
   "outputs": [],
   "source": [
    "#Drop Dead \n",
    "all_shootings_df.drop(columns=['Dead'], inplace=True)"
   ]
  },
  {
   "cell_type": "code",
   "execution_count": 576,
   "metadata": {},
   "outputs": [],
   "source": [
    "#split out the Injured notes\n",
    "all_shootings_df[['Injured New','Injured Notes 1','Injured Notes 2']] = all_shootings_df.Injured.str.split(\"[\",expand=True)\n",
    "all_shootings_df['Injured Notes 1'] = all_shootings_df['Injured Notes 1'].str.replace(\"]\", \"\")\n",
    "all_shootings_df['Injured Notes 2'] = all_shootings_df['Injured Notes 2'].str.replace(\"]\", \"\")\n",
    "# replace dead new with dead and split dead min and max\n",
    "all_shootings_df['Injured'] = all_shootings_df['Injured New']\n",
    "all_shootings_df.drop(columns=['Injured New'], inplace=True)\n",
    "#split Injured min and max\n",
    "all_shootings_df[['Injured Min','Injured Max']] = all_shootings_df.Injured.str.split(\"-\",expand=True)\n",
    "#injured has some unknowns and a + on some columns\n",
    "all_shootings_df['Injured Min'] = all_shootings_df['Injured Min'].str.replace(\"+\", \"\")\n",
    "all_shootings_df['Injured Min'] = all_shootings_df['Injured Min'].str.replace(\"unknown\", \"0\")\n",
    "\n",
    "#Drop Injured \n",
    "all_shootings_df.drop(columns=['Injured'], inplace=True)"
   ]
  },
  {
   "cell_type": "code",
   "execution_count": 577,
   "metadata": {},
   "outputs": [],
   "source": [
    "#average the dead as float\n",
    "all_shootings_df['Dead Average'] = all_shootings_df[['Dead Min','Dead Max']].astype(float).mean(axis=1)"
   ]
  },
  {
   "cell_type": "code",
   "execution_count": 578,
   "metadata": {},
   "outputs": [],
   "source": [
    "#average the injured as float\n",
    "all_shootings_df['Injured Average'] = all_shootings_df[['Injured Min','Injured Max']].astype(float).mean(axis=1)"
   ]
  },
  {
   "cell_type": "code",
   "execution_count": 579,
   "metadata": {},
   "outputs": [],
   "source": [
    "all_shootings_df.sort_index(inplace=True)"
   ]
  },
  {
   "cell_type": "code",
   "execution_count": 580,
   "metadata": {},
   "outputs": [],
   "source": [
    "all_shootings_df = all_shootings_df.sort_values('Date Start').reset_index()"
   ]
  },
  {
   "cell_type": "code",
   "execution_count": 581,
   "metadata": {},
   "outputs": [],
   "source": [
    "all_shootings_df.drop(columns=['index'], inplace=True)"
   ]
  },
  {
   "cell_type": "markdown",
   "metadata": {},
   "source": [
    "# score , we can finally start to look at the data"
   ]
  },
  {
   "cell_type": "code",
   "execution_count": 582,
   "metadata": {},
   "outputs": [],
   "source": [
    "#trim it down \n",
    "cleaned_shootings = all_shootings_df[['Date Start','Location', 'Dead Average', 'Injured Average']]"
   ]
  },
  {
   "cell_type": "code",
   "execution_count": 583,
   "metadata": {},
   "outputs": [
    {
     "data": {
      "text/plain": [
       "<AxesSubplot:xlabel='Date Start', ylabel='Dead Average'>"
      ]
     },
     "execution_count": 583,
     "metadata": {},
     "output_type": "execute_result"
    },
    {
     "data": {
      "image/png": "[encoded data removed]",
      "text/plain": [
       "<Figure size 432x288 with 1 Axes>"
      ]
     },
     "metadata": {
      "needs_background": "light"
     },
     "output_type": "display_data"
    }
   ],
   "source": [
    "#quick plots to see what's up\n",
    "cleaned_shootings.plot(kind='scatter',x='Date Start', y='Dead Average')\n",
    "#cleaned_shootings.plot(kind='scatter',x='Date Start', y='Injured Average')"
   ]
  },
  {
   "cell_type": "markdown",
   "metadata": {},
   "source": [
    "## Initial observations. \n",
    "### 1. WTF happened around 1920?\n",
    "#### The Tulsa Race Massacre, AKA Black Wall Street. https://en.wikipedia.org/wiki/Tulsa_race_massacre  \n",
    "### 2. No mass shootings from around WW1 until after WW2\n",
    "#### US cuts steel production, makes sense. Post WW2 recovery 'boom' makes some sense as well, worth revisting this period for more explanation\n",
    "### 3. We can probably split the data and look post 1960 due to the observations\n",
    "## Notes:\n",
    "### 1840 is when the first pin firing cartridge firearm started being sold, allowing for rapid reloading and quick firing, 1871 cartridges were brought to handguns. http://www.pbs.org/opb/historydetectives/technique/gun-timeline/"
   ]
  },
  {
   "cell_type": "code",
   "execution_count": 584,
   "metadata": {},
   "outputs": [
    {
     "data": {
      "text/plain": [
       "<AxesSubplot:xlabel='Date Start', ylabel='Dead Average'>"
      ]
     },
     "execution_count": 584,
     "metadata": {},
     "output_type": "execute_result"
    },
    {
     "data": {
      "image/png": "[encoded data removed]",
      "text/plain": [
       "<Figure size 432x288 with 1 Axes>"
      ]
     },
     "metadata": {
      "needs_background": "light"
     },
     "output_type": "display_data"
    }
   ],
   "source": [
    "#lets just look post 1960\n",
    "shootings_post_1960_df = cleaned_shootings[(cleaned_shootings['Date Start'] > '1960-01-01') ]\n",
    "shootings_post_1960_df.plot(kind='scatter',x='Date Start', y='Dead Average')"
   ]
  },
  {
   "cell_type": "code",
   "execution_count": 585,
   "metadata": {},
   "outputs": [
    {
     "data": {
      "text/html": [
       "<div>\n",
       "<style scoped>\n",
       "    .dataframe tbody tr th:only-of-type {\n",
       "        vertical-align: middle;\n",
       "    }\n",
       "\n",
       "    .dataframe tbody tr th {\n",
       "        vertical-align: top;\n",
       "    }\n",
       "\n",
       "    .dataframe thead th {\n",
       "        text-align: right;\n",
       "    }\n",
       "</style>\n",
       "<table border=\"1\" class=\"dataframe\">\n",
       "  <thead>\n",
       "    <tr style=\"text-align: right;\">\n",
       "      <th></th>\n",
       "      <th>Dead Average</th>\n",
       "      <th>Injured Average</th>\n",
       "    </tr>\n",
       "  </thead>\n",
       "  <tbody>\n",
       "    <tr>\n",
       "      <th>count</th>\n",
       "      <td>250.000000</td>\n",
       "      <td>172.000000</td>\n",
       "    </tr>\n",
       "    <tr>\n",
       "      <th>mean</th>\n",
       "      <td>6.444000</td>\n",
       "      <td>8.738372</td>\n",
       "    </tr>\n",
       "    <tr>\n",
       "      <th>std</th>\n",
       "      <td>6.902568</td>\n",
       "      <td>31.930226</td>\n",
       "    </tr>\n",
       "    <tr>\n",
       "      <th>min</th>\n",
       "      <td>0.000000</td>\n",
       "      <td>0.000000</td>\n",
       "    </tr>\n",
       "    <tr>\n",
       "      <th>25%</th>\n",
       "      <td>3.000000</td>\n",
       "      <td>1.000000</td>\n",
       "    </tr>\n",
       "    <tr>\n",
       "      <th>50%</th>\n",
       "      <td>5.000000</td>\n",
       "      <td>4.000000</td>\n",
       "    </tr>\n",
       "    <tr>\n",
       "      <th>75%</th>\n",
       "      <td>7.750000</td>\n",
       "      <td>8.000000</td>\n",
       "    </tr>\n",
       "    <tr>\n",
       "      <th>max</th>\n",
       "      <td>61.000000</td>\n",
       "      <td>411.000000</td>\n",
       "    </tr>\n",
       "  </tbody>\n",
       "</table>\n",
       "</div>"
      ],
      "text/plain": [
       "       Dead Average  Injured Average\n",
       "count    250.000000       172.000000\n",
       "mean       6.444000         8.738372\n",
       "std        6.902568        31.930226\n",
       "min        0.000000         0.000000\n",
       "25%        3.000000         1.000000\n",
       "50%        5.000000         4.000000\n",
       "75%        7.750000         8.000000\n",
       "max       61.000000       411.000000"
      ]
     },
     "execution_count": 585,
     "metadata": {},
     "output_type": "execute_result"
    }
   ],
   "source": [
    "#lets see what we can start to learn about the post 1960 shootings\n",
    "shootings_post_1960_df.describe()"
   ]
  },
  {
   "cell_type": "markdown",
   "metadata": {},
   "source": [
    "### the previous graph looks like there is an increase in frequency and average dead over time, lets see if that's true or false"
   ]
  },
  {
   "cell_type": "code",
   "execution_count": 586,
   "metadata": {},
   "outputs": [
    {
     "data": {
      "text/html": [
       "<div>\n",
       "<style scoped>\n",
       "    .dataframe tbody tr th:only-of-type {\n",
       "        vertical-align: middle;\n",
       "    }\n",
       "\n",
       "    .dataframe tbody tr th {\n",
       "        vertical-align: top;\n",
       "    }\n",
       "\n",
       "    .dataframe thead th {\n",
       "        text-align: right;\n",
       "    }\n",
       "</style>\n",
       "<table border=\"1\" class=\"dataframe\">\n",
       "  <thead>\n",
       "    <tr style=\"text-align: right;\">\n",
       "      <th></th>\n",
       "      <th>Location</th>\n",
       "      <th>Dead Average</th>\n",
       "      <th>Injured Average</th>\n",
       "    </tr>\n",
       "    <tr>\n",
       "      <th>Date Start</th>\n",
       "      <th></th>\n",
       "      <th></th>\n",
       "      <th></th>\n",
       "    </tr>\n",
       "  </thead>\n",
       "  <tbody>\n",
       "    <tr>\n",
       "      <th>1960</th>\n",
       "      <td>6</td>\n",
       "      <td>6</td>\n",
       "      <td>0</td>\n",
       "    </tr>\n",
       "    <tr>\n",
       "      <th>1970</th>\n",
       "      <td>17</td>\n",
       "      <td>17</td>\n",
       "      <td>0</td>\n",
       "    </tr>\n",
       "    <tr>\n",
       "      <th>1980</th>\n",
       "      <td>22</td>\n",
       "      <td>22</td>\n",
       "      <td>22</td>\n",
       "    </tr>\n",
       "    <tr>\n",
       "      <th>1990</th>\n",
       "      <td>32</td>\n",
       "      <td>32</td>\n",
       "      <td>32</td>\n",
       "    </tr>\n",
       "    <tr>\n",
       "      <th>2000</th>\n",
       "      <td>38</td>\n",
       "      <td>38</td>\n",
       "      <td>38</td>\n",
       "    </tr>\n",
       "    <tr>\n",
       "      <th>2010</th>\n",
       "      <td>121</td>\n",
       "      <td>121</td>\n",
       "      <td>72</td>\n",
       "    </tr>\n",
       "    <tr>\n",
       "      <th>2020</th>\n",
       "      <td>14</td>\n",
       "      <td>14</td>\n",
       "      <td>8</td>\n",
       "    </tr>\n",
       "  </tbody>\n",
       "</table>\n",
       "</div>"
      ],
      "text/plain": [
       "            Location  Dead Average  Injured Average\n",
       "Date Start                                         \n",
       "1960               6             6                0\n",
       "1970              17            17                0\n",
       "1980              22            22               22\n",
       "1990              32            32               32\n",
       "2000              38            38               38\n",
       "2010             121           121               72\n",
       "2020              14            14                8"
      ]
     },
     "execution_count": 586,
     "metadata": {},
     "output_type": "execute_result"
    }
   ],
   "source": [
    "#create a DF with the index\n",
    "shootings_post_1960_df_decade = shootings_post_1960_df.set_index('Date Start')\n",
    "#group by the index ( year * 10 //10  groups by decade)\n",
    "shootings_post_1960_df_group = shootings_post_1960_df_decade.groupby(by=[ shootings_post_1960_df_decade.index.year // 10 * 10])\n",
    "shootings_post_1960_df_group.count()"
   ]
  },
  {
   "cell_type": "code",
   "execution_count": 587,
   "metadata": {},
   "outputs": [
    {
     "data": {
      "text/plain": [
       "<AxesSubplot:xlabel='Date Start'>"
      ]
     },
     "execution_count": 587,
     "metadata": {},
     "output_type": "execute_result"
    },
    {
     "data": {
      "image/png": "[encoded data removed]",
      "text/plain": [
       "<Figure size 432x288 with 1 Axes>"
      ]
     },
     "metadata": {
      "needs_background": "light"
     },
     "output_type": "display_data"
    }
   ],
   "source": [
    "shootings_post_1960_df_group.count().plot()"
   ]
  },
  {
   "cell_type": "markdown",
   "metadata": {},
   "source": [
    "### I guess this proves that point.  \n",
    "#### interestingly enough, 2 years into the 2020's and we're at above the 1970's already"
   ]
  },
  {
   "cell_type": "code",
   "execution_count": null,
   "metadata": {},
   "outputs": [],
   "source": [
    "## At this point I've realized that the number of mass shootings reported by this page is not all inclusi"
   ]
  },
  {
   "cell_type": "code",
   "execution_count": 588,
   "metadata": {},
   "outputs": [],
   "source": [
    "#notes: I'm probably going to ignore these as I go\n",
    "# - n1 in dead includes shooter, put in another column\n",
    "# -nX in dead includes non-shooting related ( stabbing )- on the fence\n",
    "# Dates - dates spanning multiple days will be limited to the start date\n",
    "# location will get split to city / state as new columns\n",
    "# where there is a range specified, the lowest of that range will be used \n",
    "# total is kind of not needed since I'm doing the averages. felt cute, thought I'd keep for now"
   ]
  }
 ],
 "metadata": {
  "kernelspec": {
   "display_name": "Python 3",
   "language": "python",
   "name": "python3"
  },
  "language_info": {
   "codemirror_mode": {
    "name": "ipython",
    "version": 3
   },
   "file_extension": ".py",
   "mimetype": "text/x-python",
   "name": "python",
   "nbconvert_exporter": "python",
   "pygments_lexer": "ipython3",
   "version": "3.8.2"
  }
 },
 "nbformat": 4,
 "nbformat_minor": 4
}
